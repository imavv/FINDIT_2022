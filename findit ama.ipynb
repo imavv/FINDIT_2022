{
 "cells": [
  {
   "cell_type": "code",
   "execution_count": 5,
   "id": "39c1653a",
   "metadata": {},
   "outputs": [],
   "source": [
    "import os\n",
    "os.sys.path.append('/Users/atmavidyavirananda/Desktop/FIND IT 2022/findit_env/lib/python3.8/site-packages')"
   ]
  },
  {
   "cell_type": "code",
   "execution_count": 60,
   "id": "2e9e9130",
   "metadata": {},
   "outputs": [],
   "source": [
    "import pandas as pd\n",
    "import numpy as np\n",
    "\n",
    "# Models\n",
    "from sklearn.ensemble import RandomForestRegressor, VotingRegressor, AdaBoostRegressor\n",
    "from sklearn.metrics import classification_report as report\n",
    "from xgboost import XGBClassifier, plot_importance, XGBRegressor\n",
    "# from lightgbm import LGBMRegressor\n",
    "\n",
    "# Evaluations\n",
    "from sklearn.metrics import confusion_matrix, mean_squared_error as mse\n",
    "from sklearn.model_selection import KFold, cross_val_score, RepeatedKFold, cross_val_predict, StratifiedKFold\n",
    "from sklearn.model_selection import GridSearchCV, RandomizedSearchCV"
   ]
  },
  {
   "cell_type": "code",
   "execution_count": 275,
   "id": "1ef3d2d5",
   "metadata": {},
   "outputs": [],
   "source": [
    "train_df = pd.read_csv('train.csv', sep=\"|\")\n",
    "test_df = pd.read_csv('predict-case.csv', sep=\"|\")\n",
    "sample_sub = pd.read_csv('sample_submission.csv', sep=\",\")"
   ]
  },
  {
   "cell_type": "code",
   "execution_count": 276,
   "id": "91c78b3c",
   "metadata": {},
   "outputs": [
    {
     "name": "stdout",
     "output_type": "stream",
     "text": [
      "Train shape:  (31746, 15)\n",
      "Test shape:  (3000, 14)\n"
     ]
    }
   ],
   "source": [
    "print('Train shape: ', train_df.shape)\n",
    "print('Test shape: ', test_df.shape)"
   ]
  },
  {
   "cell_type": "code",
   "execution_count": 277,
   "id": "834ec7f0",
   "metadata": {},
   "outputs": [],
   "source": [
    "# # not used due to URL warning\n",
    "# # train_df.to_excel('train.xlsx', index=False, engine='xlsxwriter')\n",
    "\n",
    "# # avoid URL warning\n",
    "# with pd.ExcelWriter('train.xlsx', options={'strings_to_urls': False}) as writer:\n",
    "#         train_df.to_excel(writer, 'Sheet1')"
   ]
  },
  {
   "cell_type": "markdown",
   "id": "68ea3230",
   "metadata": {},
   "source": [
    "# Data Cleaning"
   ]
  },
  {
   "cell_type": "code",
   "execution_count": 278,
   "id": "4d03367d",
   "metadata": {},
   "outputs": [],
   "source": [
    "numeric_cols = ['experience_level', 'company_process_time', 'company_size']\n",
    "category_cols = ['location', 'career_level', 'education_level', 'job_function', 'company_industry']\n",
    "other_cols = ['job_title', 'job_benefits', 'job_description']"
   ]
  },
  {
   "cell_type": "code",
   "execution_count": 279,
   "id": "6c8ae96f",
   "metadata": {},
   "outputs": [],
   "source": [
    "# subset train\n",
    "train_num = train_df.copy()[numeric_cols]\n",
    "train_cat = train_df.copy()[category_cols]\n",
    "train_other = train_df.copy()[other_cols]\n",
    "\n",
    "# subset train\n",
    "test_num = test_df.copy()[numeric_cols]\n",
    "test_cat = test_df.copy()[category_cols]\n",
    "test_other = test_df.copy()[other_cols]"
   ]
  },
  {
   "cell_type": "markdown",
   "id": "4a3f36c8",
   "metadata": {},
   "source": [
    "## Numerical"
   ]
  },
  {
   "cell_type": "code",
   "execution_count": 280,
   "id": "465acd15",
   "metadata": {},
   "outputs": [
    {
     "name": "stdout",
     "output_type": "stream",
     "text": [
      "train exp_level uniques:  [1.0, 2.0, 3.0, 4.0, 5.0, nan, 6.0, 7.0, 8.0, 9.0, 10.0, 11.0, 12.0, 13.0, 14.0, 15.0, 16.0, 17.0, 18.0, 20.0]\n",
      "test exp_level uniques:  [1.0, 2.0, 3.0, 4.0, 5.0, 6.0, 8.0, nan, 7.0, 10.0, 12.0, 15.0, 20.0]\n"
     ]
    }
   ],
   "source": [
    "## EXPERIENCE LEVEL\n",
    "\n",
    "def f_experience(x):\n",
    "    if (x != 'Lebih dari 20 Tahun' )&(pd.notna(x)):\n",
    "        return int(x.split(' ')[0])\n",
    "    elif (x == 'Lebih dari 20 Tahun'):\n",
    "        return 20 # cap at 20\n",
    "    else:\n",
    "        return x\n",
    "\n",
    "# transform\n",
    "train_num['experience_level'] = train_num['experience_level'].map(f_experience)\n",
    "test_num['experience_level'] = test_num['experience_level'].map(f_experience)\n",
    "    \n",
    "# print uniques\n",
    "print('train exp_level uniques: ', sorted(train_num['experience_level'].unique()))\n",
    "print('test exp_level uniques: ', sorted(test_num['experience_level'].unique()))"
   ]
  },
  {
   "cell_type": "code",
   "execution_count": 281,
   "id": "67bedc7f",
   "metadata": {},
   "outputs": [
    {
     "name": "stdout",
     "output_type": "stream",
     "text": [
      "train process_time uniques: \n",
      " [nan, 1.0, 2.0, 3.0, 4.0, 5.0, 6.0, 7.0, 8.0, 9.0, 10.0, 11.0, 12.0, 13.0, 14.0, 15.0, 16.0, 17.0, 18.0, 19.0, 20.0, 21.0, 22.0, 23.0, 24.0, 25.0, 26.0, 27.0, 28.0, 29.0, 30.0]\n",
      "test process_time uniques: \n",
      " [nan, 1.0, 2.0, 3.0, 4.0, 5.0, 6.0, 7.0, 8.0, 9.0, 10.0, 11.0, 12.0, 13.0, 14.0, 15.0, 16.0, 17.0, 18.0, 19.0, 20.0, 21.0, 22.0, 23.0, 24.0, 25.0, 26.0, 27.0, 28.0, 29.0, 30.0]\n"
     ]
    }
   ],
   "source": [
    "## COMPANY PROCESS TIME\n",
    "\n",
    "def f_process_time(x):\n",
    "    if pd.notna(x):\n",
    "        return int(x.split(' ')[0])\n",
    "    else:\n",
    "        return x\n",
    "    \n",
    "# transform\n",
    "train_num['company_process_time'] = train_num['company_process_time'].map(f_process_time)\n",
    "test_num['company_process_time'] = test_num['company_process_time'].map(f_process_time)\n",
    "\n",
    "# print uniques\n",
    "print('train process_time uniques: \\n', sorted(train_num['company_process_time'].unique()))\n",
    "print('test process_time uniques: \\n', sorted(test_num['company_process_time'].unique()))"
   ]
  },
  {
   "cell_type": "code",
   "execution_count": 282,
   "id": "a039bc51",
   "metadata": {},
   "outputs": [],
   "source": [
    "## COMPANY SIZE\n",
    "\n",
    "def f_company_size(x):\n",
    "    if x == 'Lebih dari 5000 pekerja':\n",
    "        return (5000, 5000) # cap at 5000\n",
    "    elif x == '1- 50 pekerja':\n",
    "        return (1, 50)\n",
    "    elif pd.notna(x):\n",
    "        splitted = x.split(' ')\n",
    "        return (int(splitted[0]), int(splitted[2]))\n",
    "    else:\n",
    "        return x\n",
    "    \n",
    "# transform\n",
    "train_num['company_size_min'] = train_num['company_size'].map(f_company_size).map(lambda t: t[0] if pd.notna(t) else t)\n",
    "train_num['company_size_max'] = train_num['company_size'].map(f_company_size).map(lambda t: t[1] if pd.notna(t) else t)\n",
    "del train_num['company_size']\n",
    "\n",
    "test_num['company_size_min'] = test_num['company_size'].map(f_company_size).map(lambda t: t[0] if pd.notna(t) else t)\n",
    "test_num['company_size_max'] = test_num['company_size'].map(f_company_size).map(lambda t: t[1] if pd.notna(t) else t)\n",
    "del test_num['company_size']"
   ]
  },
  {
   "cell_type": "markdown",
   "id": "e4f620f7",
   "metadata": {},
   "source": [
    "## Category"
   ]
  },
  {
   "cell_type": "code",
   "execution_count": 283,
   "id": "9e058fb5",
   "metadata": {},
   "outputs": [],
   "source": [
    "## LOCATION"
   ]
  },
  {
   "cell_type": "code",
   "execution_count": 284,
   "id": "7551ec00",
   "metadata": {},
   "outputs": [],
   "source": [
    "# career_level_dict = {'Manajer/Asisten Manajer': 4, \n",
    "#                      'Supervisor/Koordinator': 3, \n",
    "#                      'Pegawai (non-manajemen & non-supervisor)': 2, \n",
    "#                      'Lulusan baru/Pengalaman kerja kurang dari 1 tahun': 1, \n",
    "#                      'Tidak Terspesifikasi': 0, \n",
    "#                      'CEO/GM/Direktur/Manajer Senior': 5}\n",
    "\n",
    "# # transform\n",
    "# train_cat['career_level'] = train_cat['career_level'].map(lambda x: career_level_dict[x])\n",
    "# test_cat['career_level'] = test_cat['career_level'].map(lambda x: career_level_dict[x])"
   ]
  },
  {
   "cell_type": "code",
   "execution_count": 285,
   "id": "533ef106",
   "metadata": {},
   "outputs": [],
   "source": [
    "career_level_ref = train_df.groupby('career_level').agg({'salary':np.mean}).reset_index()\n",
    "\n",
    "train_cat['career_level'] = train_cat[['career_level']].merge(career_level_ref, how='left', on='career_level')['salary']\n",
    "test_cat['career_level'] = test_cat[['career_level']].merge(career_level_ref, how='left', on='career_level')['salary']"
   ]
  },
  {
   "cell_type": "markdown",
   "id": "9e1ab75e",
   "metadata": {},
   "source": [
    "#### education_level"
   ]
  },
  {
   "cell_type": "code",
   "execution_count": 286,
   "id": "65551e3f",
   "metadata": {
    "scrolled": true
   },
   "outputs": [],
   "source": [
    "# ## education_level (note: no NaNs in train nor test)d\n",
    "# l = []\n",
    "\n",
    "# a = list(train_cat['education_level'].unique())\n",
    "# b = list(test_cat['education_level'].unique())\n",
    "# a.extend(b)\n",
    "\n",
    "# for i in set(a):\n",
    "#     for j in i.split(','):\n",
    "#         l.append(j.strip().lower())\n",
    "        \n",
    "# set(l)"
   ]
  },
  {
   "cell_type": "code",
   "execution_count": 287,
   "id": "421e9f86",
   "metadata": {},
   "outputs": [],
   "source": [
    "# education_level_dict = {'d3 (diploma)': 3,\n",
    "#                      'd4 (diploma)': 3,\n",
    "#                      'diploma pascasarjana': 3,\n",
    "#                      'doktor (s3)': 5,\n",
    "#                      'gelar professional': 3,\n",
    "#                      'magister (s2)': 4,\n",
    "#                      'sarjana (s1)': 3,\n",
    "#                      'sertifikat professional': 2,\n",
    "#                      'sma': 2,\n",
    "#                      'smu/smk/stm': 2,\n",
    "#                      'tidak terspesifikasi': 1\n",
    "#                   }\n"
   ]
  },
  {
   "cell_type": "code",
   "execution_count": 288,
   "id": "712d07ba",
   "metadata": {},
   "outputs": [],
   "source": [
    "# def f_education_level(x):\n",
    "#     x = x.lower()\n",
    "#     splitted = x.split(',')\n",
    "    \n",
    "#     l = [education_level_dict[i.strip()] for i in splitted]\n",
    "    \n",
    "#     return min(l), max(l)\n",
    "\n",
    "# # transform\n",
    "# train_cat['education_level_min'] = train_cat['education_level'].map(f_education_level).map(lambda t: t[0])\n",
    "# train_cat['education_level_max'] = train_cat['education_level'].map(f_education_level).map(lambda t: t[1])\n",
    "# del train_cat['education_level']\n",
    "\n",
    "# test_cat['education_level_min'] = test_cat['education_level'].map(f_education_level).map(lambda t: t[0])\n",
    "# test_cat['education_level_max'] = test_cat['education_level'].map(f_education_level).map(lambda t: t[1])\n",
    "# del test_cat['education_level']"
   ]
  },
  {
   "cell_type": "code",
   "execution_count": 289,
   "id": "b382bd18",
   "metadata": {},
   "outputs": [],
   "source": [
    "def f_education_level(x):\n",
    "    x = x.lower()\n",
    "    splitted = x.split(',')\n",
    "    \n",
    "    l = [education_level_dict[i.strip()] for i in splitted]\n",
    "    \n",
    "    return min(l), max(l)\n",
    "\n",
    "# transform\n",
    "train_cat['education_level_min'] = train_cat['education_level'].map(f_education_level).map(lambda t: t[0])\n",
    "train_cat.drop('education_level', axis=1, errors='ignore', inplace=True)\n",
    "\n",
    "test_cat['education_level_min'] = test_cat['education_level'].map(f_education_level).map(lambda t: t[0])\n",
    "test_cat.drop('education_level', axis=1, errors='ignore', inplace=True)\n",
    "\n",
    "# replace by mean of groupby salary\n",
    "education_level_ref = pd.concat([train_cat[['education_level_min']], train_df[['salary']]], axis=1)\n",
    "education_level_ref = education_level_ref.groupby('education_level_min').agg({'salary':np.mean}).reset_index()\n",
    "\n",
    "train_cat['education_level_min'] = train_cat[['education_level_min']].merge(education_level_ref, how='left', on='education_level_min')['salary']\n",
    "test_cat['education_level_min'] = test_cat[['education_level_min']].merge(education_level_ref, how='left', on='education_level_min')['salary']\n"
   ]
  },
  {
   "cell_type": "markdown",
   "id": "530a2efd",
   "metadata": {},
   "source": [
    "#### job_function"
   ]
  },
  {
   "cell_type": "code",
   "execution_count": 290,
   "id": "4a36a1e5",
   "metadata": {},
   "outputs": [],
   "source": [
    "def f_job_function(x):\n",
    "    x = x.strip().lower()\n",
    "    splitted = x.split(',')\n",
    "    \n",
    "    return (splitted[0], splitted[-1])"
   ]
  },
  {
   "cell_type": "code",
   "execution_count": 291,
   "id": "73453572",
   "metadata": {
    "scrolled": true
   },
   "outputs": [],
   "source": [
    "train_cat['job_function_broad'] = train_cat['job_function'].map(f_job_function).map(lambda x: x[0])\n",
    "train_cat['job_function_specific'] = train_cat['job_function'].map(f_job_function).map(lambda x: x[1])\n",
    "del train_cat['job_function']"
   ]
  },
  {
   "cell_type": "code",
   "execution_count": 292,
   "id": "e220e875",
   "metadata": {},
   "outputs": [],
   "source": [
    "test_cat['job_function_broad'] = test_cat['job_function'].map(f_job_function).map(lambda x: x[0])\n",
    "test_cat['job_function_specific'] = test_cat['job_function'].map(f_job_function).map(lambda x: x[1])\n",
    "del test_cat['job_function']"
   ]
  },
  {
   "cell_type": "markdown",
   "id": "8e8a11a3",
   "metadata": {},
   "source": [
    "# Data Preprocessing"
   ]
  },
  {
   "cell_type": "code",
   "execution_count": 293,
   "id": "46ddd474",
   "metadata": {},
   "outputs": [
    {
     "data": {
      "text/html": [
       "<div>\n",
       "<style scoped>\n",
       "    .dataframe tbody tr th:only-of-type {\n",
       "        vertical-align: middle;\n",
       "    }\n",
       "\n",
       "    .dataframe tbody tr th {\n",
       "        vertical-align: top;\n",
       "    }\n",
       "\n",
       "    .dataframe thead th {\n",
       "        text-align: right;\n",
       "    }\n",
       "</style>\n",
       "<table border=\"1\" class=\"dataframe\">\n",
       "  <thead>\n",
       "    <tr style=\"text-align: right;\">\n",
       "      <th></th>\n",
       "      <th>location</th>\n",
       "      <th>career_level</th>\n",
       "      <th>company_industry</th>\n",
       "      <th>education_level_min</th>\n",
       "      <th>job_function_broad</th>\n",
       "      <th>job_function_specific</th>\n",
       "    </tr>\n",
       "  </thead>\n",
       "  <tbody>\n",
       "    <tr>\n",
       "      <th>0</th>\n",
       "      <td>Bandung</td>\n",
       "      <td>1.293844e+07</td>\n",
       "      <td>NaN</td>\n",
       "      <td>5.718049e+06</td>\n",
       "      <td>manufaktur</td>\n",
       "      <td>pemeliharaan</td>\n",
       "    </tr>\n",
       "    <tr>\n",
       "      <th>1</th>\n",
       "      <td>Jakarta Raya</td>\n",
       "      <td>1.293844e+07</td>\n",
       "      <td>Manajemen/Konsulting HR</td>\n",
       "      <td>9.181527e+06</td>\n",
       "      <td>manufaktur</td>\n",
       "      <td>pembelian/manajemen material</td>\n",
       "    </tr>\n",
       "    <tr>\n",
       "      <th>2</th>\n",
       "      <td>Jakarta Barat</td>\n",
       "      <td>7.614601e+06</td>\n",
       "      <td>Umum &amp; Grosir</td>\n",
       "      <td>9.181527e+06</td>\n",
       "      <td>penjualan / pemasaran</td>\n",
       "      <td>penjualan ritel</td>\n",
       "    </tr>\n",
       "    <tr>\n",
       "      <th>3</th>\n",
       "      <td>Cirebon</td>\n",
       "      <td>7.614601e+06</td>\n",
       "      <td>Retail/Merchandise</td>\n",
       "      <td>9.181527e+06</td>\n",
       "      <td>pelayanan</td>\n",
       "      <td>logistik/rantai pasokan</td>\n",
       "    </tr>\n",
       "    <tr>\n",
       "      <th>4</th>\n",
       "      <td>Bekasi</td>\n",
       "      <td>5.550787e+06</td>\n",
       "      <td>Manajemen/Konsulting HR</td>\n",
       "      <td>5.718049e+06</td>\n",
       "      <td>lainnya</td>\n",
       "      <td>jurnalis/editor</td>\n",
       "    </tr>\n",
       "  </tbody>\n",
       "</table>\n",
       "</div>"
      ],
      "text/plain": [
       "        location  career_level         company_industry  education_level_min  \\\n",
       "0        Bandung  1.293844e+07                      NaN         5.718049e+06   \n",
       "1   Jakarta Raya  1.293844e+07  Manajemen/Konsulting HR         9.181527e+06   \n",
       "2  Jakarta Barat  7.614601e+06            Umum & Grosir         9.181527e+06   \n",
       "3        Cirebon  7.614601e+06       Retail/Merchandise         9.181527e+06   \n",
       "4         Bekasi  5.550787e+06  Manajemen/Konsulting HR         5.718049e+06   \n",
       "\n",
       "      job_function_broad         job_function_specific  \n",
       "0             manufaktur                  pemeliharaan  \n",
       "1             manufaktur  pembelian/manajemen material  \n",
       "2  penjualan / pemasaran               penjualan ritel  \n",
       "3              pelayanan       logistik/rantai pasokan  \n",
       "4                lainnya               jurnalis/editor  "
      ]
     },
     "execution_count": 293,
     "metadata": {},
     "output_type": "execute_result"
    }
   ],
   "source": [
    "train_cat.head()"
   ]
  },
  {
   "cell_type": "markdown",
   "id": "ee72984a",
   "metadata": {},
   "source": [
    "#### company_industry"
   ]
  },
  {
   "cell_type": "code",
   "execution_count": 294,
   "id": "4eec5326",
   "metadata": {},
   "outputs": [],
   "source": [
    "industry_salary_ref = train_df[['company_industry', 'salary']].groupby('company_industry').agg({'salary':np.mean}).reset_index()\n",
    "\n",
    "# transform train\n",
    "train_cat['company_industry'] = train_cat[['company_industry']].merge(industry_salary_ref, how='left', on='company_industry')['salary']\n",
    "\n",
    "# transform test\n",
    "test_cat['company_industry'] = test_cat[['company_industry']].merge(industry_salary_ref, how='left', on='company_industry')['salary']"
   ]
  },
  {
   "cell_type": "markdown",
   "id": "b88f045c",
   "metadata": {},
   "source": [
    "#### job_function"
   ]
  },
  {
   "cell_type": "code",
   "execution_count": 295,
   "id": "a86b3c98",
   "metadata": {},
   "outputs": [],
   "source": [
    "function_salary_ref = pd.concat([train_cat[['job_function_broad']], train_df[['salary']]],\n",
    "                                axis=1)\n",
    "\n",
    "function_salary_ref = function_salary_ref.groupby('job_function_broad').agg({'salary':np.mean}).reset_index()\n",
    "\n",
    "\n",
    "# transform train\n",
    "train_cat['job_function_broad'] = train_cat[['job_function_broad']].merge(function_salary_ref, how='left', on='job_function_broad')['salary']\n",
    "\n",
    "# transform test\n",
    "test_cat['job_function_broad'] = test_cat[['job_function_broad']].merge(function_salary_ref, how='left', on='job_function_broad')['salary']\n"
   ]
  },
  {
   "cell_type": "code",
   "execution_count": 296,
   "id": "b3902fb8",
   "metadata": {},
   "outputs": [
    {
     "data": {
      "text/html": [
       "<div>\n",
       "<style scoped>\n",
       "    .dataframe tbody tr th:only-of-type {\n",
       "        vertical-align: middle;\n",
       "    }\n",
       "\n",
       "    .dataframe tbody tr th {\n",
       "        vertical-align: top;\n",
       "    }\n",
       "\n",
       "    .dataframe thead th {\n",
       "        text-align: right;\n",
       "    }\n",
       "</style>\n",
       "<table border=\"1\" class=\"dataframe\">\n",
       "  <thead>\n",
       "    <tr style=\"text-align: right;\">\n",
       "      <th></th>\n",
       "      <th>location</th>\n",
       "      <th>career_level</th>\n",
       "      <th>company_industry</th>\n",
       "      <th>education_level_min</th>\n",
       "      <th>job_function_broad</th>\n",
       "      <th>job_function_specific</th>\n",
       "    </tr>\n",
       "  </thead>\n",
       "  <tbody>\n",
       "    <tr>\n",
       "      <th>0</th>\n",
       "      <td>Bandung</td>\n",
       "      <td>1.293844e+07</td>\n",
       "      <td>NaN</td>\n",
       "      <td>5.718049e+06</td>\n",
       "      <td>6.944844e+06</td>\n",
       "      <td>pemeliharaan</td>\n",
       "    </tr>\n",
       "    <tr>\n",
       "      <th>1</th>\n",
       "      <td>Jakarta Raya</td>\n",
       "      <td>1.293844e+07</td>\n",
       "      <td>1.228130e+07</td>\n",
       "      <td>9.181527e+06</td>\n",
       "      <td>6.944844e+06</td>\n",
       "      <td>pembelian/manajemen material</td>\n",
       "    </tr>\n",
       "    <tr>\n",
       "      <th>2</th>\n",
       "      <td>Jakarta Barat</td>\n",
       "      <td>7.614601e+06</td>\n",
       "      <td>6.233821e+06</td>\n",
       "      <td>9.181527e+06</td>\n",
       "      <td>6.729211e+06</td>\n",
       "      <td>penjualan ritel</td>\n",
       "    </tr>\n",
       "    <tr>\n",
       "      <th>3</th>\n",
       "      <td>Cirebon</td>\n",
       "      <td>7.614601e+06</td>\n",
       "      <td>6.300965e+06</td>\n",
       "      <td>9.181527e+06</td>\n",
       "      <td>7.218313e+06</td>\n",
       "      <td>logistik/rantai pasokan</td>\n",
       "    </tr>\n",
       "    <tr>\n",
       "      <th>4</th>\n",
       "      <td>Bekasi</td>\n",
       "      <td>5.550787e+06</td>\n",
       "      <td>1.228130e+07</td>\n",
       "      <td>5.718049e+06</td>\n",
       "      <td>6.470334e+06</td>\n",
       "      <td>jurnalis/editor</td>\n",
       "    </tr>\n",
       "  </tbody>\n",
       "</table>\n",
       "</div>"
      ],
      "text/plain": [
       "        location  career_level  company_industry  education_level_min  \\\n",
       "0        Bandung  1.293844e+07               NaN         5.718049e+06   \n",
       "1   Jakarta Raya  1.293844e+07      1.228130e+07         9.181527e+06   \n",
       "2  Jakarta Barat  7.614601e+06      6.233821e+06         9.181527e+06   \n",
       "3        Cirebon  7.614601e+06      6.300965e+06         9.181527e+06   \n",
       "4         Bekasi  5.550787e+06      1.228130e+07         5.718049e+06   \n",
       "\n",
       "   job_function_broad         job_function_specific  \n",
       "0        6.944844e+06                  pemeliharaan  \n",
       "1        6.944844e+06  pembelian/manajemen material  \n",
       "2        6.729211e+06               penjualan ritel  \n",
       "3        7.218313e+06       logistik/rantai pasokan  \n",
       "4        6.470334e+06               jurnalis/editor  "
      ]
     },
     "execution_count": 296,
     "metadata": {},
     "output_type": "execute_result"
    }
   ],
   "source": [
    "train_cat.head()"
   ]
  },
  {
   "cell_type": "markdown",
   "id": "965fcdbf",
   "metadata": {},
   "source": [
    "#### delete some columns"
   ]
  },
  {
   "cell_type": "code",
   "execution_count": 297,
   "id": "3627e331",
   "metadata": {},
   "outputs": [],
   "source": [
    "train_cat.drop(['location', 'job_function_specific'], axis=1, inplace=True)\n",
    "test_cat.drop(['location', 'job_function_specific'], axis=1, inplace=True)"
   ]
  },
  {
   "cell_type": "markdown",
   "id": "50e3bfd6",
   "metadata": {},
   "source": [
    "#### combine all cols again"
   ]
  },
  {
   "cell_type": "code",
   "execution_count": 298,
   "id": "c18b4848",
   "metadata": {},
   "outputs": [],
   "source": [
    "train_pp = pd.concat([train_num, train_cat, train_df[['id', 'salary']]], axis=1)\n",
    "test_pp = pd.concat([test_num, test_cat], axis=1)"
   ]
  },
  {
   "cell_type": "markdown",
   "id": "dcf1c2ec",
   "metadata": {},
   "source": [
    "#### delete some outlier salaries on train"
   ]
  },
  {
   "cell_type": "code",
   "execution_count": 299,
   "id": "7d40f341",
   "metadata": {},
   "outputs": [],
   "source": [
    "delete_ixes = train_pp.loc[train_pp['id'].isin([163,2822,8624,15076,20909,30896]), :].index\n",
    "train_pp.drop(delete_ixes, axis=0, inplace=True)"
   ]
  },
  {
   "cell_type": "code",
   "execution_count": 300,
   "id": "a605ca36",
   "metadata": {},
   "outputs": [],
   "source": [
    "del train_pp['id']"
   ]
  },
  {
   "cell_type": "markdown",
   "id": "60825cd5",
   "metadata": {},
   "source": [
    "# Modelling"
   ]
  },
  {
   "cell_type": "markdown",
   "id": "ae7ee90b",
   "metadata": {},
   "source": [
    "### fill up nan salaries in train"
   ]
  },
  {
   "cell_type": "code",
   "execution_count": 301,
   "id": "de35bcb4",
   "metadata": {},
   "outputs": [],
   "source": [
    "train_pp_tr = train_pp.loc[~train_pp['salary'].isna(), :]\n",
    "train_pp_ts = train_pp.loc[train_pp['salary'].isna(), :]"
   ]
  },
  {
   "cell_type": "code",
   "execution_count": 302,
   "id": "5247a61a",
   "metadata": {},
   "outputs": [],
   "source": [
    "train_pp_tr_X = train_pp_tr.copy().drop('salary', axis=1)\n",
    "train_pp_tr_y = train_pp_tr.copy()['salary']"
   ]
  },
  {
   "cell_type": "code",
   "execution_count": 303,
   "id": "dfcdd102",
   "metadata": {},
   "outputs": [
    {
     "name": "stdout",
     "output_type": "stream",
     "text": [
      "4024792.7929275096\n"
     ]
    }
   ],
   "source": [
    "# XGB Regressor - Semi Supervised\n",
    "xgb = XGBRegressor(n_estimators=300, objective='reg:squarederror', random_state=69)\n",
    "xgb.fit(train_pp_tr_X, train_pp_tr_y)\n",
    "val = cross_val_score(xgb, train_pp_tr_X, train_pp_tr_y, scoring='neg_root_mean_squared_error', cv=5)\n",
    "print(np.mean(val*-1))"
   ]
  },
  {
   "cell_type": "code",
   "execution_count": 304,
   "id": "63272e19",
   "metadata": {},
   "outputs": [
    {
     "name": "stderr",
     "output_type": "stream",
     "text": [
      "<ipython-input-304-f7496d433094>:2: SettingWithCopyWarning: \n",
      "A value is trying to be set on a copy of a slice from a DataFrame.\n",
      "Try using .loc[row_indexer,col_indexer] = value instead\n",
      "\n",
      "See the caveats in the documentation: https://pandas.pydata.org/pandas-docs/stable/user_guide/indexing.html#returning-a-view-versus-a-copy\n",
      "  train_pp_ts['salary'] = filled_salary\n"
     ]
    }
   ],
   "source": [
    "filled_salary = xgb.predict(train_pp_ts.drop(['salary'], axis=1))\n",
    "train_pp_ts['salary'] = filled_salary"
   ]
  },
  {
   "cell_type": "code",
   "execution_count": 305,
   "id": "92a607ad",
   "metadata": {},
   "outputs": [],
   "source": [
    "# combine train again\n",
    "train_pp = pd.concat([train_pp_tr, train_pp_ts], axis=0)"
   ]
  },
  {
   "cell_type": "markdown",
   "id": "e20e32fb",
   "metadata": {},
   "source": [
    "### predict on test"
   ]
  },
  {
   "cell_type": "code",
   "execution_count": 306,
   "id": "dd00f098",
   "metadata": {},
   "outputs": [],
   "source": [
    "train_pp_X = train_pp.drop('salary', axis=1)\n",
    "train_pp_y = train_pp['salary']"
   ]
  },
  {
   "cell_type": "code",
   "execution_count": 307,
   "id": "2659899f",
   "metadata": {},
   "outputs": [
    {
     "name": "stdout",
     "output_type": "stream",
     "text": [
      "1187870.6619227794\n"
     ]
    }
   ],
   "source": [
    "# XGB Regressor - Semi Supervised\n",
    "xgb = XGBRegressor(n_estimators=300, objective='reg:squarederror', random_state=69)\n",
    "xgb.fit(train_pp_X, train_pp_y)\n",
    "val = cross_val_score(xgb, train_pp_X, train_pp_y, scoring='neg_root_mean_squared_error', cv=5)\n",
    "print(np.mean(val*-1))"
   ]
  },
  {
   "cell_type": "code",
   "execution_count": 308,
   "id": "08eaffcb",
   "metadata": {},
   "outputs": [],
   "source": [
    "salary_pred = xgb.predict(test_pp)"
   ]
  },
  {
   "cell_type": "code",
   "execution_count": 309,
   "id": "d60b7cc3",
   "metadata": {},
   "outputs": [],
   "source": [
    "sample_sub['salary'] = salary_pred\n",
    "sample_sub['id'] = test_df['id']"
   ]
  },
  {
   "cell_type": "code",
   "execution_count": 310,
   "id": "3e6af9c4",
   "metadata": {},
   "outputs": [],
   "source": [
    "sample_sub.to_csv('xgb basic v2.csv', index=False)"
   ]
  },
  {
   "cell_type": "code",
   "execution_count": null,
   "id": "f207a6e7",
   "metadata": {},
   "outputs": [],
   "source": []
  }
 ],
 "metadata": {
  "kernelspec": {
   "display_name": "findit_env",
   "language": "python",
   "name": "findit_env"
  },
  "language_info": {
   "codemirror_mode": {
    "name": "ipython",
    "version": 3
   },
   "file_extension": ".py",
   "mimetype": "text/x-python",
   "name": "python",
   "nbconvert_exporter": "python",
   "pygments_lexer": "ipython3",
   "version": "3.8.8"
  }
 },
 "nbformat": 4,
 "nbformat_minor": 5
}
