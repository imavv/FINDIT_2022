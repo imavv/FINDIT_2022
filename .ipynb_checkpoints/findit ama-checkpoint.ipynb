{
 "cells": [
  {
   "cell_type": "code",
   "execution_count": 1,
   "id": "40e2c417",
   "metadata": {},
   "outputs": [],
   "source": [
    "import os\n",
    "os.sys.path.append('/Users/atmavidyavirananda/Desktop/FIND IT 2022/findit_env/lib/python3.8/site-packages')"
   ]
  },
  {
   "cell_type": "markdown",
   "id": "c2adfc12",
   "metadata": {},
   "source": [
    "# Import"
   ]
  },
  {
   "cell_type": "code",
   "execution_count": 2,
   "id": "2e9e9130",
   "metadata": {},
   "outputs": [],
   "source": [
    "import pandas as pd\n",
    "pd.set_option('display.max_rows', 50)\n",
    "import numpy as np\n",
    "\n",
    "# Models\n",
    "from sklearn.ensemble import RandomForestRegressor, VotingRegressor, AdaBoostRegressor\n",
    "from catboost import CatBoostRegressor\n",
    "from sklearn.metrics import classification_report as report\n",
    "from xgboost import XGBClassifier, plot_importance, XGBRegressor\n",
    "from lightgbm import LGBMRegressor\n",
    "\n",
    "# Evaluations\n",
    "from sklearn.metrics import confusion_matrix, mean_squared_error as mse\n",
    "from sklearn.model_selection import KFold, cross_val_score, RepeatedKFold, cross_val_predict, StratifiedKFold\n",
    "from sklearn.model_selection import GridSearchCV, RandomizedSearchCV"
   ]
  },
  {
   "cell_type": "markdown",
   "id": "f40ded7f",
   "metadata": {},
   "source": [
    "* bisa pake wordcloud atau word count buat job_title, job_benefits, job_desc\n",
    "* hyperparameter tuning\n",
    "* ensemble method"
   ]
  },
  {
   "cell_type": "code",
   "execution_count": 38,
   "id": "1ef3d2d5",
   "metadata": {},
   "outputs": [],
   "source": [
    "train_df = pd.read_csv('train.csv', sep=\"|\")\n",
    "test_df = pd.read_csv('predict-case.csv', sep=\"|\")\n",
    "sample_sub = pd.read_csv('sample_submission.csv', sep=\",\")"
   ]
  },
  {
   "cell_type": "code",
   "execution_count": 39,
   "id": "91c78b3c",
   "metadata": {},
   "outputs": [
    {
     "name": "stdout",
     "output_type": "stream",
     "text": [
      "Train shape:  (31746, 15)\n",
      "Test shape:  (3000, 14)\n"
     ]
    }
   ],
   "source": [
    "print('Train shape: ', train_df.shape)\n",
    "print('Test shape: ', test_df.shape)"
   ]
  },
  {
   "cell_type": "code",
   "execution_count": 40,
   "id": "834ec7f0",
   "metadata": {},
   "outputs": [],
   "source": [
    "# # not used due to URL warning\n",
    "# # train_df.to_excel('train.xlsx', index=False, engine='xlsxwriter')\n",
    "\n",
    "# # avoid URL warning\n",
    "# with pd.ExcelWriter('train.xlsx', options={'strings_to_urls': False}) as writer:\n",
    "#         train_df.to_excel(writer, 'Sheet1')"
   ]
  },
  {
   "cell_type": "markdown",
   "id": "68ea3230",
   "metadata": {},
   "source": [
    "# Data Cleaning"
   ]
  },
  {
   "cell_type": "code",
   "execution_count": 41,
   "id": "4d03367d",
   "metadata": {},
   "outputs": [],
   "source": [
    "numeric_cols = ['experience_level', 'company_process_time', 'company_size']\n",
    "category_cols = ['location', 'career_level', 'education_level', 'job_function', 'company_industry', 'employment_type']\n",
    "other_cols = ['job_title', 'job_benefits', 'job_description']"
   ]
  },
  {
   "cell_type": "code",
   "execution_count": 42,
   "id": "6c8ae96f",
   "metadata": {},
   "outputs": [],
   "source": [
    "# subset train\n",
    "train_num = train_df.copy()[numeric_cols]\n",
    "train_cat = train_df.copy()[category_cols]\n",
    "train_other = train_df.copy()[other_cols]\n",
    "\n",
    "# subset train\n",
    "test_num = test_df.copy()[numeric_cols]\n",
    "test_cat = test_df.copy()[category_cols]\n",
    "test_other = test_df.copy()[other_cols]"
   ]
  },
  {
   "cell_type": "markdown",
   "id": "4a3f36c8",
   "metadata": {},
   "source": [
    "## Numerical"
   ]
  },
  {
   "cell_type": "code",
   "execution_count": 43,
   "id": "465acd15",
   "metadata": {},
   "outputs": [
    {
     "name": "stdout",
     "output_type": "stream",
     "text": [
      "train exp_level uniques:  [1.0, 2.0, 3.0, 4.0, 5.0, nan, 6.0, 7.0, 8.0, 9.0, 10.0, 11.0, 12.0, 13.0, 14.0, 15.0, 16.0, 17.0, 18.0, 20.0]\n",
      "test exp_level uniques:  [1.0, 2.0, 3.0, 4.0, 5.0, 6.0, 8.0, nan, 7.0, 10.0, 12.0, 15.0, 20.0]\n"
     ]
    }
   ],
   "source": [
    "## EXPERIENCE LEVEL\n",
    "\n",
    "def f_experience(x):\n",
    "    if (x != 'Lebih dari 20 Tahun' )&(pd.notna(x)):\n",
    "        return int(x.split(' ')[0])\n",
    "    elif (x == 'Lebih dari 20 Tahun'):\n",
    "        return 20 # cap at 20\n",
    "    else:\n",
    "        return x\n",
    "\n",
    "# transform\n",
    "train_num['experience_level'] = train_num['experience_level'].map(f_experience)\n",
    "test_num['experience_level'] = test_num['experience_level'].map(f_experience)\n",
    "    \n",
    "# print uniques\n",
    "print('train exp_level uniques: ', sorted(train_num['experience_level'].unique()))\n",
    "print('test exp_level uniques: ', sorted(test_num['experience_level'].unique()))"
   ]
  },
  {
   "cell_type": "code",
   "execution_count": 44,
   "id": "67bedc7f",
   "metadata": {},
   "outputs": [
    {
     "name": "stdout",
     "output_type": "stream",
     "text": [
      "train process_time uniques: \n",
      " [nan, 1.0, 2.0, 3.0, 4.0, 5.0, 6.0, 7.0, 8.0, 9.0, 10.0, 11.0, 12.0, 13.0, 14.0, 15.0, 16.0, 17.0, 18.0, 19.0, 20.0, 21.0, 22.0, 23.0, 24.0, 25.0, 26.0, 27.0, 28.0, 29.0, 30.0]\n",
      "test process_time uniques: \n",
      " [nan, 1.0, 2.0, 3.0, 4.0, 5.0, 6.0, 7.0, 8.0, 9.0, 10.0, 11.0, 12.0, 13.0, 14.0, 15.0, 16.0, 17.0, 18.0, 19.0, 20.0, 21.0, 22.0, 23.0, 24.0, 25.0, 26.0, 27.0, 28.0, 29.0, 30.0]\n"
     ]
    }
   ],
   "source": [
    "## COMPANY PROCESS TIME\n",
    "\n",
    "def f_process_time(x):\n",
    "    if pd.notna(x):\n",
    "        return int(x.split(' ')[0])\n",
    "    else:\n",
    "        return x\n",
    "    \n",
    "# transform\n",
    "train_num['company_process_time'] = train_num['company_process_time'].map(f_process_time)\n",
    "test_num['company_process_time'] = test_num['company_process_time'].map(f_process_time)\n",
    "\n",
    "# print uniques\n",
    "print('train process_time uniques: \\n', sorted(train_num['company_process_time'].unique()))\n",
    "print('test process_time uniques: \\n', sorted(test_num['company_process_time'].unique()))"
   ]
  },
  {
   "cell_type": "code",
   "execution_count": 45,
   "id": "a039bc51",
   "metadata": {},
   "outputs": [],
   "source": [
    "## COMPANY SIZE\n",
    "\n",
    "def f_company_size(x):\n",
    "    if x == 'Lebih dari 5000 pekerja':\n",
    "        return (5000, 5000) # cap at 5000\n",
    "    elif x == '1- 50 pekerja':\n",
    "        return (1, 50)\n",
    "    elif pd.notna(x):\n",
    "        splitted = x.split(' ')\n",
    "        return (int(splitted[0]), int(splitted[2]))\n",
    "    else:\n",
    "        return x\n",
    "    \n",
    "# transform\n",
    "train_num['company_size_min'] = train_num['company_size'].map(f_company_size).map(lambda t: t[0] if pd.notna(t) else t)\n",
    "train_num['company_size_max'] = train_num['company_size'].map(f_company_size).map(lambda t: t[1] if pd.notna(t) else t)\n",
    "del train_num['company_size']\n",
    "\n",
    "test_num['company_size_min'] = test_num['company_size'].map(f_company_size).map(lambda t: t[0] if pd.notna(t) else t)\n",
    "test_num['company_size_max'] = test_num['company_size'].map(f_company_size).map(lambda t: t[1] if pd.notna(t) else t)\n",
    "del test_num['company_size']\n",
    "\n",
    "#midpoint\n",
    "train_num['company_size_midpoint'] = (train_num['company_size_min']+train_num['company_size_max'])/2\n",
    "test_num['company_size_midpoint'] = (test_num['company_size_min']+test_num['company_size_max'])/2\n"
   ]
  },
  {
   "cell_type": "markdown",
   "id": "e4f620f7",
   "metadata": {},
   "source": [
    "## Category"
   ]
  },
  {
   "cell_type": "markdown",
   "id": "27957bb6",
   "metadata": {},
   "source": [
    "#### Location"
   ]
  },
  {
   "cell_type": "markdown",
   "id": "5958f2c7",
   "metadata": {},
   "source": [
    "Try to hardcode location to province or island"
   ]
  },
  {
   "cell_type": "code",
   "execution_count": 46,
   "id": "9e058fb5",
   "metadata": {},
   "outputs": [],
   "source": [
    "## LOCATION\n",
    "def count_notnull(x):\n",
    "    return np.count_nonzero(~np.isnan(x))\n",
    "\n",
    "a = train_df.groupby('location').agg({'salary':np.mean}).reset_index()\n",
    "b = train_df.groupby('location').agg({'salary':count_notnull}).reset_index()\n",
    "\n",
    "salary_loc_eda = a.merge(b, how='left', on='location')\n",
    "salary_loc_eda.columns = ['location','mean', 'count']"
   ]
  },
  {
   "cell_type": "code",
   "execution_count": 47,
   "id": "34c0dbdb",
   "metadata": {},
   "outputs": [
    {
     "data": {
      "text/html": [
       "<div>\n",
       "<style scoped>\n",
       "    .dataframe tbody tr th:only-of-type {\n",
       "        vertical-align: middle;\n",
       "    }\n",
       "\n",
       "    .dataframe tbody tr th {\n",
       "        vertical-align: top;\n",
       "    }\n",
       "\n",
       "    .dataframe thead th {\n",
       "        text-align: right;\n",
       "    }\n",
       "</style>\n",
       "<table border=\"1\" class=\"dataframe\">\n",
       "  <thead>\n",
       "    <tr style=\"text-align: right;\">\n",
       "      <th></th>\n",
       "      <th>location</th>\n",
       "      <th>mean</th>\n",
       "      <th>count</th>\n",
       "    </tr>\n",
       "  </thead>\n",
       "  <tbody>\n",
       "    <tr>\n",
       "      <th>174</th>\n",
       "      <td>Sulawesi Utara</td>\n",
       "      <td>1.266250e+07</td>\n",
       "      <td>6.0</td>\n",
       "    </tr>\n",
       "    <tr>\n",
       "      <th>177</th>\n",
       "      <td>Sumatera Utara</td>\n",
       "      <td>1.083763e+07</td>\n",
       "      <td>76.0</td>\n",
       "    </tr>\n",
       "    <tr>\n",
       "      <th>73</th>\n",
       "      <td>Kalimantan Timur</td>\n",
       "      <td>9.650000e+06</td>\n",
       "      <td>5.0</td>\n",
       "    </tr>\n",
       "    <tr>\n",
       "      <th>59</th>\n",
       "      <td>Jakarta Raya</td>\n",
       "      <td>9.315888e+06</td>\n",
       "      <td>1223.0</td>\n",
       "    </tr>\n",
       "    <tr>\n",
       "      <th>0</th>\n",
       "      <td>Aceh</td>\n",
       "      <td>9.209160e+06</td>\n",
       "      <td>119.0</td>\n",
       "    </tr>\n",
       "    <tr>\n",
       "      <th>...</th>\n",
       "      <td>...</td>\n",
       "      <td>...</td>\n",
       "      <td>...</td>\n",
       "    </tr>\n",
       "    <tr>\n",
       "      <th>7</th>\n",
       "      <td>Bandar Lampung</td>\n",
       "      <td>3.592496e+06</td>\n",
       "      <td>10.0</td>\n",
       "    </tr>\n",
       "    <tr>\n",
       "      <th>152</th>\n",
       "      <td>Purwokerto</td>\n",
       "      <td>3.542857e+06</td>\n",
       "      <td>7.0</td>\n",
       "    </tr>\n",
       "    <tr>\n",
       "      <th>16</th>\n",
       "      <td>Bantul</td>\n",
       "      <td>3.510278e+06</td>\n",
       "      <td>9.0</td>\n",
       "    </tr>\n",
       "    <tr>\n",
       "      <th>167</th>\n",
       "      <td>Sleman</td>\n",
       "      <td>3.180435e+06</td>\n",
       "      <td>23.0</td>\n",
       "    </tr>\n",
       "    <tr>\n",
       "      <th>40</th>\n",
       "      <td>Cilacap</td>\n",
       "      <td>2.700000e+06</td>\n",
       "      <td>5.0</td>\n",
       "    </tr>\n",
       "  </tbody>\n",
       "</table>\n",
       "<p>82 rows × 3 columns</p>\n",
       "</div>"
      ],
      "text/plain": [
       "             location          mean   count\n",
       "174    Sulawesi Utara  1.266250e+07     6.0\n",
       "177    Sumatera Utara  1.083763e+07    76.0\n",
       "73   Kalimantan Timur  9.650000e+06     5.0\n",
       "59       Jakarta Raya  9.315888e+06  1223.0\n",
       "0                Aceh  9.209160e+06   119.0\n",
       "..                ...           ...     ...\n",
       "7      Bandar Lampung  3.592496e+06    10.0\n",
       "152        Purwokerto  3.542857e+06     7.0\n",
       "16             Bantul  3.510278e+06     9.0\n",
       "167            Sleman  3.180435e+06    23.0\n",
       "40            Cilacap  2.700000e+06     5.0\n",
       "\n",
       "[82 rows x 3 columns]"
      ]
     },
     "execution_count": 47,
     "metadata": {},
     "output_type": "execute_result"
    }
   ],
   "source": [
    "salary_loc_eda.query('count >= 5').sort_values('mean', ascending=False)"
   ]
  },
  {
   "cell_type": "markdown",
   "id": "affdde32",
   "metadata": {},
   "source": [
    "#### career_level"
   ]
  },
  {
   "cell_type": "code",
   "execution_count": 48,
   "id": "7551ec00",
   "metadata": {},
   "outputs": [],
   "source": [
    "# career_level_dict = {'Manajer/Asisten Manajer': 4, \n",
    "#                      'Supervisor/Koordinator': 3, \n",
    "#                      'Pegawai (non-manajemen & non-supervisor)': 2, \n",
    "#                      'Lulusan baru/Pengalaman kerja kurang dari 1 tahun': 1, \n",
    "#                      'Tidak Terspesifikasi': 0, \n",
    "#                      'CEO/GM/Direktur/Manajer Senior': 5}\n",
    "\n",
    "# # transform\n",
    "# train_cat['career_level'] = train_cat['career_level'].map(lambda x: career_level_dict[x])\n",
    "# test_cat['career_level'] = test_cat['career_level'].map(lambda x: career_level_dict[x])"
   ]
  },
  {
   "cell_type": "code",
   "execution_count": 49,
   "id": "6909690a",
   "metadata": {},
   "outputs": [],
   "source": [
    "career_level_ref = train_df.groupby('career_level').agg({'salary':np.mean}).reset_index()\n",
    "\n",
    "train_cat['career_level'] = train_cat[['career_level']].merge(career_level_ref, how='left', on='career_level')['salary']\n",
    "test_cat['career_level'] = test_cat[['career_level']].merge(career_level_ref, how='left', on='career_level')['salary']"
   ]
  },
  {
   "cell_type": "markdown",
   "id": "9e1ab75e",
   "metadata": {},
   "source": [
    "#### education_level"
   ]
  },
  {
   "cell_type": "code",
   "execution_count": 50,
   "id": "65551e3f",
   "metadata": {
    "scrolled": true
   },
   "outputs": [],
   "source": [
    "# ## education_level (note: no NaNs in train nor test)d\n",
    "# l = []\n",
    "\n",
    "# a = list(train_cat['education_level'].unique())\n",
    "# b = list(test_cat['education_level'].unique())\n",
    "# a.extend(b)\n",
    "\n",
    "# for i in set(a):\n",
    "#     for j in i.split(','):\n",
    "#         l.append(j.strip().lower())\n",
    "        \n",
    "# set(l)"
   ]
  },
  {
   "cell_type": "code",
   "execution_count": 51,
   "id": "421e9f86",
   "metadata": {},
   "outputs": [],
   "source": [
    "education_level_dict = {'d3 (diploma)': 3,\n",
    "                     'd4 (diploma)': 3,\n",
    "                     'diploma pascasarjana': 3,\n",
    "                     'doktor (s3)': 5,\n",
    "                     'gelar professional': 3,\n",
    "                     'magister (s2)': 4,\n",
    "                     'sarjana (s1)': 3,\n",
    "                     'sertifikat professional': 2,\n",
    "                     'sma': 2,\n",
    "                     'smu/smk/stm': 2,\n",
    "                     'tidak terspesifikasi': 1\n",
    "                  }\n"
   ]
  },
  {
   "cell_type": "code",
   "execution_count": 52,
   "id": "712d07ba",
   "metadata": {},
   "outputs": [],
   "source": [
    "# def f_education_level(x):\n",
    "#     x = x.lower()\n",
    "#     splitted = x.split(',')\n",
    "    \n",
    "#     l = [education_level_dict[i.strip()] for i in splitted]\n",
    "    \n",
    "#     return min(l), max(l)\n",
    "\n",
    "# # transform\n",
    "# train_cat['education_level_min'] = train_cat['education_level'].map(f_education_level).map(lambda t: t[0])\n",
    "# train_cat['education_level_max'] = train_cat['education_level'].map(f_education_level).map(lambda t: t[1])\n",
    "# del train_cat['education_level']\n",
    "\n",
    "# test_cat['education_level_min'] = test_cat['education_level'].map(f_education_level).map(lambda t: t[0])\n",
    "# test_cat['education_level_max'] = test_cat['education_level'].map(f_education_level).map(lambda t: t[1])\n",
    "# del test_cat['education_level']"
   ]
  },
  {
   "cell_type": "code",
   "execution_count": 53,
   "id": "e997fad6",
   "metadata": {},
   "outputs": [],
   "source": [
    "def f_education_level(x):\n",
    "    x = x.lower()\n",
    "    splitted = x.split(',')\n",
    "    \n",
    "    l = [education_level_dict[i.strip()] for i in splitted]\n",
    "    \n",
    "    return min(l), max(l)\n",
    "\n",
    "# transform\n",
    "train_cat['education_level_min'] = train_cat['education_level'].map(f_education_level).map(lambda t: t[0])\n",
    "train_cat.drop('education_level', axis=1, errors='ignore', inplace=True)\n",
    "\n",
    "test_cat['education_level_min'] = test_cat['education_level'].map(f_education_level).map(lambda t: t[0])\n",
    "test_cat.drop('education_level', axis=1, errors='ignore', inplace=True)\n",
    "\n",
    "# replace by mean of groupby salary\n",
    "education_level_ref = pd.concat([train_cat[['education_level_min']], train_df[['salary']]], axis=1)\n",
    "education_level_ref = education_level_ref.groupby('education_level_min').agg({'salary':np.mean}).reset_index()\n",
    "\n",
    "train_cat['education_level_min'] = train_cat[['education_level_min']].merge(education_level_ref, how='left', on='education_level_min')['salary']\n",
    "test_cat['education_level_min'] = test_cat[['education_level_min']].merge(education_level_ref, how='left', on='education_level_min')['salary']\n"
   ]
  },
  {
   "cell_type": "markdown",
   "id": "530a2efd",
   "metadata": {},
   "source": [
    "#### job_function"
   ]
  },
  {
   "cell_type": "code",
   "execution_count": 54,
   "id": "4a36a1e5",
   "metadata": {},
   "outputs": [],
   "source": [
    "def f_job_function(x):\n",
    "    x = x.strip().lower()\n",
    "    splitted = x.split(',')\n",
    "    \n",
    "    return (splitted[0], splitted[-1])"
   ]
  },
  {
   "cell_type": "code",
   "execution_count": 55,
   "id": "73453572",
   "metadata": {
    "scrolled": true
   },
   "outputs": [],
   "source": [
    "train_cat['job_function_broad'] = train_cat['job_function'].map(f_job_function).map(lambda x: x[0])\n",
    "train_cat['job_function_specific'] = train_cat['job_function'].map(f_job_function).map(lambda x: x[1])\n",
    "del train_cat['job_function']"
   ]
  },
  {
   "cell_type": "code",
   "execution_count": 56,
   "id": "e220e875",
   "metadata": {},
   "outputs": [],
   "source": [
    "test_cat['job_function_broad'] = test_cat['job_function'].map(f_job_function).map(lambda x: x[0])\n",
    "test_cat['job_function_specific'] = test_cat['job_function'].map(f_job_function).map(lambda x: x[1])\n",
    "del test_cat['job_function']"
   ]
  },
  {
   "cell_type": "markdown",
   "id": "d39c00e9",
   "metadata": {},
   "source": [
    "#### employment_type (new)"
   ]
  },
  {
   "cell_type": "code",
   "execution_count": 57,
   "id": "c7e11282",
   "metadata": {},
   "outputs": [],
   "source": [
    "employment_type_dict = {'Penuh Waktu': 2, \n",
    "                         'Kontrak': 2,\n",
    "                         'Temporer, Magang': 0,\n",
    "                         'Magang': 0,\n",
    "                         'Paruh Waktu': 0,\n",
    "                         'Temporer': 1,\n",
    "                         'Penuh Waktu, Magang': 0,\n",
    "                         'Penuh Waktu, Kontrak': 1,\n",
    "                         'Penuh Waktu, Paruh Waktu': 1,\n",
    "                         'Kontrak, Temporer': 0}"
   ]
  },
  {
   "cell_type": "code",
   "execution_count": 58,
   "id": "1ef771fd",
   "metadata": {},
   "outputs": [],
   "source": [
    "employment_type_ref = train_cat['employment_type'].map(lambda x: employment_type_dict[x] if not pd.isna(x) else x)\n",
    "employment_type_ref = pd.concat([employment_type_ref, train_df[['salary']]], axis=1)\n",
    "employment_type_ref = employment_type_ref.groupby('employment_type').agg({'salary':np.mean}).reset_index()"
   ]
  },
  {
   "cell_type": "code",
   "execution_count": 59,
   "id": "98ed4caf",
   "metadata": {},
   "outputs": [],
   "source": [
    "train_cat['employment_type'] = train_cat['employment_type'].map(lambda x: employment_type_dict[x] if not pd.isna(x) else x)\n",
    "test_cat['employment_type'] = test_cat['employment_type'].map(lambda x: employment_type_dict[x] if not pd.isna(x) else x)"
   ]
  },
  {
   "cell_type": "code",
   "execution_count": 60,
   "id": "f297cc83",
   "metadata": {},
   "outputs": [],
   "source": [
    "# transform train\n",
    "train_cat['employment_type'] = train_cat['employment_type'].fillna(0).reset_index().merge(employment_type_ref, how='left', on='employment_type')['salary']\n",
    "\n",
    "# transform test\n",
    "test_cat['employment_type'] = test_cat['employment_type'].fillna(0).reset_index().merge(employment_type_ref, how='left', on='employment_type')['salary']\n",
    "                                                               \n",
    "                                                                                        "
   ]
  },
  {
   "cell_type": "markdown",
   "id": "b64c717e",
   "metadata": {},
   "source": [
    "## Others"
   ]
  },
  {
   "cell_type": "code",
   "execution_count": 61,
   "id": "f703f3c4",
   "metadata": {},
   "outputs": [],
   "source": [
    "has_asuransi_tr = train_other['job_benefits'].map(lambda x: int('asuransi' in x.lower()) if not pd.isna(x) else x)\n",
    "train_other['benefit_asuransi'] = has_asuransi_tr\n",
    "\n",
    "has_asuransi_ts = test_other['job_benefits'].map(lambda x: int('asuransi' in x.lower()) if not pd.isna(x) else x)\n",
    "test_other['benefit_asuransi'] = has_asuransi_ts"
   ]
  },
  {
   "cell_type": "code",
   "execution_count": 62,
   "id": "939c7a2d",
   "metadata": {},
   "outputs": [],
   "source": [
    "train_other.drop(['job_title', 'job_benefits', 'job_description'], axis=1, inplace=True)\n",
    "test_other.drop(['job_title', 'job_benefits', 'job_description'], axis=1, inplace=True)"
   ]
  },
  {
   "cell_type": "markdown",
   "id": "8e8a11a3",
   "metadata": {},
   "source": [
    "# Data Preprocessing"
   ]
  },
  {
   "cell_type": "code",
   "execution_count": 63,
   "id": "46ddd474",
   "metadata": {},
   "outputs": [
    {
     "data": {
      "text/html": [
       "<div>\n",
       "<style scoped>\n",
       "    .dataframe tbody tr th:only-of-type {\n",
       "        vertical-align: middle;\n",
       "    }\n",
       "\n",
       "    .dataframe tbody tr th {\n",
       "        vertical-align: top;\n",
       "    }\n",
       "\n",
       "    .dataframe thead th {\n",
       "        text-align: right;\n",
       "    }\n",
       "</style>\n",
       "<table border=\"1\" class=\"dataframe\">\n",
       "  <thead>\n",
       "    <tr style=\"text-align: right;\">\n",
       "      <th></th>\n",
       "      <th>location</th>\n",
       "      <th>career_level</th>\n",
       "      <th>company_industry</th>\n",
       "      <th>employment_type</th>\n",
       "      <th>education_level_min</th>\n",
       "      <th>job_function_broad</th>\n",
       "      <th>job_function_specific</th>\n",
       "    </tr>\n",
       "  </thead>\n",
       "  <tbody>\n",
       "    <tr>\n",
       "      <th>0</th>\n",
       "      <td>Bandung</td>\n",
       "      <td>1.293844e+07</td>\n",
       "      <td>NaN</td>\n",
       "      <td>7.165235e+06</td>\n",
       "      <td>5.718049e+06</td>\n",
       "      <td>manufaktur</td>\n",
       "      <td>pemeliharaan</td>\n",
       "    </tr>\n",
       "    <tr>\n",
       "      <th>1</th>\n",
       "      <td>Jakarta Raya</td>\n",
       "      <td>1.293844e+07</td>\n",
       "      <td>Manajemen/Konsulting HR</td>\n",
       "      <td>7.165235e+06</td>\n",
       "      <td>9.181527e+06</td>\n",
       "      <td>manufaktur</td>\n",
       "      <td>pembelian/manajemen material</td>\n",
       "    </tr>\n",
       "    <tr>\n",
       "      <th>2</th>\n",
       "      <td>Jakarta Barat</td>\n",
       "      <td>7.614601e+06</td>\n",
       "      <td>Umum &amp; Grosir</td>\n",
       "      <td>7.165235e+06</td>\n",
       "      <td>9.181527e+06</td>\n",
       "      <td>penjualan / pemasaran</td>\n",
       "      <td>penjualan ritel</td>\n",
       "    </tr>\n",
       "    <tr>\n",
       "      <th>3</th>\n",
       "      <td>Cirebon</td>\n",
       "      <td>7.614601e+06</td>\n",
       "      <td>Retail/Merchandise</td>\n",
       "      <td>7.165235e+06</td>\n",
       "      <td>9.181527e+06</td>\n",
       "      <td>pelayanan</td>\n",
       "      <td>logistik/rantai pasokan</td>\n",
       "    </tr>\n",
       "    <tr>\n",
       "      <th>4</th>\n",
       "      <td>Bekasi</td>\n",
       "      <td>5.550787e+06</td>\n",
       "      <td>Manajemen/Konsulting HR</td>\n",
       "      <td>7.165235e+06</td>\n",
       "      <td>5.718049e+06</td>\n",
       "      <td>lainnya</td>\n",
       "      <td>jurnalis/editor</td>\n",
       "    </tr>\n",
       "  </tbody>\n",
       "</table>\n",
       "</div>"
      ],
      "text/plain": [
       "        location  career_level         company_industry  employment_type  \\\n",
       "0        Bandung  1.293844e+07                      NaN     7.165235e+06   \n",
       "1   Jakarta Raya  1.293844e+07  Manajemen/Konsulting HR     7.165235e+06   \n",
       "2  Jakarta Barat  7.614601e+06            Umum & Grosir     7.165235e+06   \n",
       "3        Cirebon  7.614601e+06       Retail/Merchandise     7.165235e+06   \n",
       "4         Bekasi  5.550787e+06  Manajemen/Konsulting HR     7.165235e+06   \n",
       "\n",
       "   education_level_min     job_function_broad         job_function_specific  \n",
       "0         5.718049e+06             manufaktur                  pemeliharaan  \n",
       "1         9.181527e+06             manufaktur  pembelian/manajemen material  \n",
       "2         9.181527e+06  penjualan / pemasaran               penjualan ritel  \n",
       "3         9.181527e+06              pelayanan       logistik/rantai pasokan  \n",
       "4         5.718049e+06                lainnya               jurnalis/editor  "
      ]
     },
     "execution_count": 63,
     "metadata": {},
     "output_type": "execute_result"
    }
   ],
   "source": [
    "train_cat.head()"
   ]
  },
  {
   "cell_type": "markdown",
   "id": "ee72984a",
   "metadata": {},
   "source": [
    "#### company_industry"
   ]
  },
  {
   "cell_type": "code",
   "execution_count": 64,
   "id": "4eec5326",
   "metadata": {},
   "outputs": [],
   "source": [
    "industry_salary_ref = train_df[['company_industry', 'salary']].groupby('company_industry').agg({'salary':np.mean}).reset_index()\n",
    "\n",
    "# transform train\n",
    "train_cat['company_industry'] = train_cat[['company_industry']].merge(industry_salary_ref, how='left', on='company_industry')['salary']\n",
    "\n",
    "# transform test\n",
    "test_cat['company_industry'] = test_cat[['company_industry']].merge(industry_salary_ref, how='left', on='company_industry')['salary']"
   ]
  },
  {
   "cell_type": "markdown",
   "id": "b88f045c",
   "metadata": {},
   "source": [
    "#### job_function"
   ]
  },
  {
   "cell_type": "code",
   "execution_count": 65,
   "id": "a86b3c98",
   "metadata": {},
   "outputs": [],
   "source": [
    "function_salary_ref = pd.concat([train_cat[['job_function_broad']], train_df[['salary']]],\n",
    "                                axis=1)\n",
    "\n",
    "function_salary_ref = function_salary_ref.groupby('job_function_broad').agg({'salary':np.mean}).reset_index()\n",
    "\n",
    "\n",
    "# transform train\n",
    "train_cat['job_function_broad'] = train_cat[['job_function_broad']].merge(function_salary_ref, how='left', on='job_function_broad')['salary']\n",
    "\n",
    "# transform test\n",
    "test_cat['job_function_broad'] = test_cat[['job_function_broad']].merge(function_salary_ref, how='left', on='job_function_broad')['salary']\n"
   ]
  },
  {
   "cell_type": "code",
   "execution_count": 66,
   "id": "a658f517",
   "metadata": {},
   "outputs": [
    {
     "data": {
      "text/html": [
       "<div>\n",
       "<style scoped>\n",
       "    .dataframe tbody tr th:only-of-type {\n",
       "        vertical-align: middle;\n",
       "    }\n",
       "\n",
       "    .dataframe tbody tr th {\n",
       "        vertical-align: top;\n",
       "    }\n",
       "\n",
       "    .dataframe thead th {\n",
       "        text-align: right;\n",
       "    }\n",
       "</style>\n",
       "<table border=\"1\" class=\"dataframe\">\n",
       "  <thead>\n",
       "    <tr style=\"text-align: right;\">\n",
       "      <th></th>\n",
       "      <th>location</th>\n",
       "      <th>career_level</th>\n",
       "      <th>company_industry</th>\n",
       "      <th>employment_type</th>\n",
       "      <th>education_level_min</th>\n",
       "      <th>job_function_broad</th>\n",
       "      <th>job_function_specific</th>\n",
       "    </tr>\n",
       "  </thead>\n",
       "  <tbody>\n",
       "    <tr>\n",
       "      <th>0</th>\n",
       "      <td>Bandung</td>\n",
       "      <td>1.293844e+07</td>\n",
       "      <td>NaN</td>\n",
       "      <td>7.165235e+06</td>\n",
       "      <td>5.718049e+06</td>\n",
       "      <td>6.944844e+06</td>\n",
       "      <td>pemeliharaan</td>\n",
       "    </tr>\n",
       "    <tr>\n",
       "      <th>1</th>\n",
       "      <td>Jakarta Raya</td>\n",
       "      <td>1.293844e+07</td>\n",
       "      <td>1.228130e+07</td>\n",
       "      <td>7.165235e+06</td>\n",
       "      <td>9.181527e+06</td>\n",
       "      <td>6.944844e+06</td>\n",
       "      <td>pembelian/manajemen material</td>\n",
       "    </tr>\n",
       "    <tr>\n",
       "      <th>2</th>\n",
       "      <td>Jakarta Barat</td>\n",
       "      <td>7.614601e+06</td>\n",
       "      <td>6.233821e+06</td>\n",
       "      <td>7.165235e+06</td>\n",
       "      <td>9.181527e+06</td>\n",
       "      <td>6.729211e+06</td>\n",
       "      <td>penjualan ritel</td>\n",
       "    </tr>\n",
       "    <tr>\n",
       "      <th>3</th>\n",
       "      <td>Cirebon</td>\n",
       "      <td>7.614601e+06</td>\n",
       "      <td>6.300965e+06</td>\n",
       "      <td>7.165235e+06</td>\n",
       "      <td>9.181527e+06</td>\n",
       "      <td>7.218313e+06</td>\n",
       "      <td>logistik/rantai pasokan</td>\n",
       "    </tr>\n",
       "    <tr>\n",
       "      <th>4</th>\n",
       "      <td>Bekasi</td>\n",
       "      <td>5.550787e+06</td>\n",
       "      <td>1.228130e+07</td>\n",
       "      <td>7.165235e+06</td>\n",
       "      <td>5.718049e+06</td>\n",
       "      <td>6.470334e+06</td>\n",
       "      <td>jurnalis/editor</td>\n",
       "    </tr>\n",
       "  </tbody>\n",
       "</table>\n",
       "</div>"
      ],
      "text/plain": [
       "        location  career_level  company_industry  employment_type  \\\n",
       "0        Bandung  1.293844e+07               NaN     7.165235e+06   \n",
       "1   Jakarta Raya  1.293844e+07      1.228130e+07     7.165235e+06   \n",
       "2  Jakarta Barat  7.614601e+06      6.233821e+06     7.165235e+06   \n",
       "3        Cirebon  7.614601e+06      6.300965e+06     7.165235e+06   \n",
       "4         Bekasi  5.550787e+06      1.228130e+07     7.165235e+06   \n",
       "\n",
       "   education_level_min  job_function_broad         job_function_specific  \n",
       "0         5.718049e+06        6.944844e+06                  pemeliharaan  \n",
       "1         9.181527e+06        6.944844e+06  pembelian/manajemen material  \n",
       "2         9.181527e+06        6.729211e+06               penjualan ritel  \n",
       "3         9.181527e+06        7.218313e+06       logistik/rantai pasokan  \n",
       "4         5.718049e+06        6.470334e+06               jurnalis/editor  "
      ]
     },
     "execution_count": 66,
     "metadata": {},
     "output_type": "execute_result"
    }
   ],
   "source": [
    "train_cat.head()"
   ]
  },
  {
   "cell_type": "markdown",
   "id": "965fcdbf",
   "metadata": {},
   "source": [
    "#### delete some columns"
   ]
  },
  {
   "cell_type": "code",
   "execution_count": 67,
   "id": "3627e331",
   "metadata": {},
   "outputs": [],
   "source": [
    "train_cat.drop(['location', 'job_function_specific'], axis=1, inplace=True)\n",
    "test_cat.drop(['location', 'job_function_specific'], axis=1, inplace=True)"
   ]
  },
  {
   "cell_type": "markdown",
   "id": "50e3bfd6",
   "metadata": {},
   "source": [
    "#### combine all cols again"
   ]
  },
  {
   "cell_type": "code",
   "execution_count": 68,
   "id": "c18b4848",
   "metadata": {},
   "outputs": [],
   "source": [
    "train_pp = pd.concat([train_num, train_cat, train_df[['id', 'salary']]], axis=1)\n",
    "test_pp = pd.concat([test_num, test_cat], axis=1)"
   ]
  },
  {
   "cell_type": "markdown",
   "id": "d21f5518",
   "metadata": {},
   "source": [
    "#### delete some outlier salaries on train"
   ]
  },
  {
   "cell_type": "code",
   "execution_count": 69,
   "id": "97701940",
   "metadata": {},
   "outputs": [],
   "source": [
    "delete_ixes = train_pp.loc[train_pp['id'].isin([163,2822,8624,15076,20909,30896,\n",
    "                                               11074]), :].index\n",
    "train_pp.drop(delete_ixes, axis=0, inplace=True)"
   ]
  },
  {
   "cell_type": "code",
   "execution_count": 70,
   "id": "647b1392",
   "metadata": {},
   "outputs": [],
   "source": [
    "del train_pp['id']"
   ]
  },
  {
   "cell_type": "markdown",
   "id": "60825cd5",
   "metadata": {},
   "source": [
    "# Modelling"
   ]
  },
  {
   "cell_type": "markdown",
   "id": "1e1538e7",
   "metadata": {},
   "source": [
    "### fill up nan salaries in train"
   ]
  },
  {
   "cell_type": "code",
   "execution_count": 72,
   "id": "ae04b519",
   "metadata": {},
   "outputs": [],
   "source": [
    "train_pp_tr = train_pp.loc[~train_pp['salary'].isna(), :]\n",
    "train_pp_ts = train_pp.loc[train_pp['salary'].isna(), :]"
   ]
  },
  {
   "cell_type": "code",
   "execution_count": 73,
   "id": "9973361e",
   "metadata": {},
   "outputs": [],
   "source": [
    "train_pp_tr_X = train_pp_tr.copy().drop('salary', axis=1)\n",
    "train_pp_tr_y = train_pp_tr.copy()['salary']"
   ]
  },
  {
   "cell_type": "code",
   "execution_count": 74,
   "id": "8b35ee61",
   "metadata": {},
   "outputs": [
    {
     "name": "stdout",
     "output_type": "stream",
     "text": [
      "3926211.8752753935\n"
     ]
    }
   ],
   "source": [
    "# # XGB Regressor - Semi Supervised\n",
    "# xgb = XGBRegressor(n_estimators=300, objective='reg:squarederror', random_state=69)\n",
    "# xgb.fit(train_pp_tr_X, train_pp_tr_y)\n",
    "# val = cross_val_score(xgb, train_pp_tr_X, train_pp_tr_y, scoring='neg_root_mean_squared_error', cv=5)\n",
    "# print(np.mean(val*-1))"
   ]
  },
  {
   "cell_type": "code",
   "execution_count": 372,
   "id": "0505ce80",
   "metadata": {},
   "outputs": [
    {
     "name": "stderr",
     "output_type": "stream",
     "text": [
      "<ipython-input-372-f7496d433094>:2: SettingWithCopyWarning: \n",
      "A value is trying to be set on a copy of a slice from a DataFrame.\n",
      "Try using .loc[row_indexer,col_indexer] = value instead\n",
      "\n",
      "See the caveats in the documentation: https://pandas.pydata.org/pandas-docs/stable/user_guide/indexing.html#returning-a-view-versus-a-copy\n",
      "  train_pp_ts['salary'] = filled_salary\n"
     ]
    }
   ],
   "source": [
    "# filled_salary = xgb.predict(train_pp_ts.drop(['salary'], axis=1))\n",
    "# train_pp_ts['salary'] = filled_salary"
   ]
  },
  {
   "cell_type": "code",
   "execution_count": 75,
   "id": "132bd75d",
   "metadata": {},
   "outputs": [
    {
     "name": "stdout",
     "output_type": "stream",
     "text": [
      "3576617.173477487\n"
     ]
    }
   ],
   "source": [
    "# Catboost Regressor - Semi Supervised\n",
    "catboost_cat_cols = ['education_level_min', 'career_level', 'job_function_broad', 'company_industry']\n",
    "catb = CatBoostRegressor(verbose=0, random_state=69)\n",
    "catb.fit(train_pp_tr_X, train_pp_tr_y)\n",
    "val = cross_val_score(catb, train_pp_tr_X, train_pp_tr_y, scoring='neg_root_mean_squared_error', cv=5)\n",
    "print(np.mean(val*-1))"
   ]
  },
  {
   "cell_type": "code",
   "execution_count": 76,
   "id": "5c32ff14",
   "metadata": {},
   "outputs": [
    {
     "name": "stderr",
     "output_type": "stream",
     "text": [
      "<ipython-input-76-d9c881ca2ec1>:2: SettingWithCopyWarning: \n",
      "A value is trying to be set on a copy of a slice from a DataFrame.\n",
      "Try using .loc[row_indexer,col_indexer] = value instead\n",
      "\n",
      "See the caveats in the documentation: https://pandas.pydata.org/pandas-docs/stable/user_guide/indexing.html#returning-a-view-versus-a-copy\n",
      "  train_pp_ts['salary'] = filled_salary\n"
     ]
    }
   ],
   "source": [
    "filled_salary = catb.predict(train_pp_ts.drop(['salary'], axis=1))\n",
    "train_pp_ts['salary'] = filled_salary"
   ]
  },
  {
   "cell_type": "code",
   "execution_count": 77,
   "id": "040326a5",
   "metadata": {},
   "outputs": [],
   "source": [
    "# combine train again\n",
    "train_pp = pd.concat([train_pp_tr, train_pp_ts], axis=0)"
   ]
  },
  {
   "cell_type": "markdown",
   "id": "1475de6f",
   "metadata": {},
   "source": [
    "### predict on test"
   ]
  },
  {
   "cell_type": "code",
   "execution_count": 78,
   "id": "f8f13e1b",
   "metadata": {},
   "outputs": [
    {
     "data": {
      "text/html": [
       "<div>\n",
       "<style scoped>\n",
       "    .dataframe tbody tr th:only-of-type {\n",
       "        vertical-align: middle;\n",
       "    }\n",
       "\n",
       "    .dataframe tbody tr th {\n",
       "        vertical-align: top;\n",
       "    }\n",
       "\n",
       "    .dataframe thead th {\n",
       "        text-align: right;\n",
       "    }\n",
       "</style>\n",
       "<table border=\"1\" class=\"dataframe\">\n",
       "  <thead>\n",
       "    <tr style=\"text-align: right;\">\n",
       "      <th></th>\n",
       "      <th>experience_level</th>\n",
       "      <th>company_process_time</th>\n",
       "      <th>company_size_min</th>\n",
       "      <th>company_size_max</th>\n",
       "      <th>company_size_midpoint</th>\n",
       "      <th>career_level</th>\n",
       "      <th>company_industry</th>\n",
       "      <th>employment_type</th>\n",
       "      <th>education_level_min</th>\n",
       "      <th>job_function_broad</th>\n",
       "      <th>salary</th>\n",
       "    </tr>\n",
       "  </thead>\n",
       "  <tbody>\n",
       "    <tr>\n",
       "      <th>5</th>\n",
       "      <td>NaN</td>\n",
       "      <td>18.0</td>\n",
       "      <td>51.0</td>\n",
       "      <td>200.0</td>\n",
       "      <td>125.5</td>\n",
       "      <td>7.614601e+06</td>\n",
       "      <td>6.369592e+06</td>\n",
       "      <td>7.165235e+06</td>\n",
       "      <td>5.718049e+06</td>\n",
       "      <td>6.944844e+06</td>\n",
       "      <td>10500000.0</td>\n",
       "    </tr>\n",
       "    <tr>\n",
       "      <th>9</th>\n",
       "      <td>3.0</td>\n",
       "      <td>22.0</td>\n",
       "      <td>51.0</td>\n",
       "      <td>200.0</td>\n",
       "      <td>125.5</td>\n",
       "      <td>7.614601e+06</td>\n",
       "      <td>6.635658e+06</td>\n",
       "      <td>7.165235e+06</td>\n",
       "      <td>5.718049e+06</td>\n",
       "      <td>7.334464e+06</td>\n",
       "      <td>8000000.0</td>\n",
       "    </tr>\n",
       "    <tr>\n",
       "      <th>18</th>\n",
       "      <td>1.0</td>\n",
       "      <td>NaN</td>\n",
       "      <td>1.0</td>\n",
       "      <td>50.0</td>\n",
       "      <td>25.5</td>\n",
       "      <td>5.550787e+06</td>\n",
       "      <td>6.369592e+06</td>\n",
       "      <td>7.165235e+06</td>\n",
       "      <td>5.718049e+06</td>\n",
       "      <td>7.334464e+06</td>\n",
       "      <td>4750000.0</td>\n",
       "    </tr>\n",
       "    <tr>\n",
       "      <th>22</th>\n",
       "      <td>2.0</td>\n",
       "      <td>29.0</td>\n",
       "      <td>1.0</td>\n",
       "      <td>50.0</td>\n",
       "      <td>25.5</td>\n",
       "      <td>5.550787e+06</td>\n",
       "      <td>5.326584e+06</td>\n",
       "      <td>7.165235e+06</td>\n",
       "      <td>5.718049e+06</td>\n",
       "      <td>6.944844e+06</td>\n",
       "      <td>5250000.0</td>\n",
       "    </tr>\n",
       "    <tr>\n",
       "      <th>26</th>\n",
       "      <td>2.0</td>\n",
       "      <td>29.0</td>\n",
       "      <td>51.0</td>\n",
       "      <td>200.0</td>\n",
       "      <td>125.5</td>\n",
       "      <td>1.293844e+07</td>\n",
       "      <td>8.477075e+06</td>\n",
       "      <td>7.165235e+06</td>\n",
       "      <td>6.974654e+06</td>\n",
       "      <td>6.729211e+06</td>\n",
       "      <td>15000000.0</td>\n",
       "    </tr>\n",
       "  </tbody>\n",
       "</table>\n",
       "</div>"
      ],
      "text/plain": [
       "    experience_level  company_process_time  company_size_min  \\\n",
       "5                NaN                  18.0              51.0   \n",
       "9                3.0                  22.0              51.0   \n",
       "18               1.0                   NaN               1.0   \n",
       "22               2.0                  29.0               1.0   \n",
       "26               2.0                  29.0              51.0   \n",
       "\n",
       "    company_size_max  company_size_midpoint  career_level  company_industry  \\\n",
       "5              200.0                  125.5  7.614601e+06      6.369592e+06   \n",
       "9              200.0                  125.5  7.614601e+06      6.635658e+06   \n",
       "18              50.0                   25.5  5.550787e+06      6.369592e+06   \n",
       "22              50.0                   25.5  5.550787e+06      5.326584e+06   \n",
       "26             200.0                  125.5  1.293844e+07      8.477075e+06   \n",
       "\n",
       "    employment_type  education_level_min  job_function_broad      salary  \n",
       "5      7.165235e+06         5.718049e+06        6.944844e+06  10500000.0  \n",
       "9      7.165235e+06         5.718049e+06        7.334464e+06   8000000.0  \n",
       "18     7.165235e+06         5.718049e+06        7.334464e+06   4750000.0  \n",
       "22     7.165235e+06         5.718049e+06        6.944844e+06   5250000.0  \n",
       "26     7.165235e+06         6.974654e+06        6.729211e+06  15000000.0  "
      ]
     },
     "execution_count": 78,
     "metadata": {},
     "output_type": "execute_result"
    }
   ],
   "source": [
    "train_pp.head()"
   ]
  },
  {
   "cell_type": "code",
   "execution_count": 79,
   "id": "45b668d2",
   "metadata": {},
   "outputs": [],
   "source": [
    "train_pp_X = train_pp.drop('salary', axis=1)\n",
    "train_pp_y = train_pp['salary']"
   ]
  },
  {
   "cell_type": "code",
   "execution_count": 375,
   "id": "72e6b020",
   "metadata": {},
   "outputs": [
    {
     "name": "stdout",
     "output_type": "stream",
     "text": [
      "1167112.5306702969\n"
     ]
    }
   ],
   "source": [
    "# # XGB Regressor - Semi Supervised\n",
    "# xgb = XGBRegressor(n_estimators=300, objective='reg:squarederror', random_state=69)\n",
    "# xgb.fit(train_pp_X, train_pp_y)\n",
    "# val = cross_val_score(xgb, train_pp_X, train_pp_y, scoring='neg_root_mean_squared_error', cv=5)\n",
    "# print(np.mean(val*-1))"
   ]
  },
  {
   "cell_type": "code",
   "execution_count": 80,
   "id": "257f0aaa",
   "metadata": {},
   "outputs": [
    {
     "name": "stdout",
     "output_type": "stream",
     "text": [
      "909391.6572694092\n"
     ]
    }
   ],
   "source": [
    "# Catboost Regressor - Semi Supervised\n",
    "catboost_cat_cols = ['education_level_min', 'career_level', 'job_function_broad', 'company_industry']\n",
    "catb = CatBoostRegressor(verbose=0, random_state=69)\n",
    "catb.fit(train_pp_X, train_pp_y)\n",
    "val = cross_val_score(catb, train_pp_X, train_pp_y, scoring='neg_root_mean_squared_error', cv=5)\n",
    "print(np.mean(val*-1))"
   ]
  },
  {
   "cell_type": "code",
   "execution_count": 48,
   "id": "4d82517e",
   "metadata": {},
   "outputs": [],
   "source": [
    "salary_pred = catb.predict(test_pp)"
   ]
  },
  {
   "cell_type": "code",
   "execution_count": 49,
   "id": "dd98ac7a",
   "metadata": {},
   "outputs": [],
   "source": [
    "sample_sub['salary'] = salary_pred\n",
    "sample_sub['id'] = test_df['id']"
   ]
  },
  {
   "cell_type": "code",
   "execution_count": 50,
   "id": "42fca142",
   "metadata": {},
   "outputs": [],
   "source": [
    "sample_sub.to_csv('catboost.csv', index=False)"
   ]
  },
  {
   "cell_type": "code",
   "execution_count": null,
   "id": "5deecde3",
   "metadata": {},
   "outputs": [],
   "source": []
  }
 ],
 "metadata": {
  "interpreter": {
   "hash": "34eb81244736b12f43d1cd514e9fc1f8bbc6451ad10866897240d3a26e12f163"
  },
  "kernelspec": {
   "display_name": "findit_env",
   "language": "python",
   "name": "findit_env"
  },
  "language_info": {
   "codemirror_mode": {
    "name": "ipython",
    "version": 3
   },
   "file_extension": ".py",
   "mimetype": "text/x-python",
   "name": "python",
   "nbconvert_exporter": "python",
   "pygments_lexer": "ipython3",
   "version": "3.8.8"
  }
 },
 "nbformat": 4,
 "nbformat_minor": 5
}
